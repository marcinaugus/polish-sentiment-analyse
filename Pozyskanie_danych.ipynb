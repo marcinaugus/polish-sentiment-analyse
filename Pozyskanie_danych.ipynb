{
 "cells": [
  {
   "cell_type": "code",
   "execution_count": 1,
   "metadata": {},
   "outputs": [],
   "source": [
    "import requests\n",
    "from bs4 import BeautifulSoup\n",
    "import pandas as pd   "
   ]
  },
  {
   "cell_type": "markdown",
   "metadata": {},
   "source": [
    "# Pobranie informacji o spółkach"
   ]
  },
  {
   "cell_type": "code",
   "execution_count": 2,
   "metadata": {},
   "outputs": [],
   "source": [
    "url = 'https://www.bankier.pl/gielda/notowania/new-connect'\n",
    "page = requests.get(url)\n",
    "soup = BeautifulSoup(page.content,'lxml')\n",
    "table1 = soup.find_all('table')[0]\n",
    "\n",
    "\n",
    "#Wczytaj tabele jako dataframe\n",
    "df = pd.read_html(str(table1))[0]\n",
    "with open('Pozyskane_dane/Notowania_spolek.csv', 'a') as f:\n",
    "            df.to_csv(f, header=True,index=False)"
   ]
  },
  {
   "cell_type": "markdown",
   "metadata": {},
   "source": [
    "# Przygotowanie danych"
   ]
  },
  {
   "cell_type": "code",
   "execution_count": 4,
   "metadata": {},
   "outputs": [],
   "source": [
    "df1 = pd.read_csv('Pozyskane_dane/Notowania_spolek.csv',encoding= 'unicode_escape', skipinitialspace=True)\n",
    "df1.columns = ['Walor', 'Kurs', 'Zmiana','Zmiana_procentowa','Liczba_transakcji','Obrot','Otwarcie','Max','Min','Czas']\n",
    "\n",
    "df1[\"Obrot\"] = df1[\"Obrot\"].astype(str).str.replace('\\D+', '') #zamiana na stringi i usunięcie spacji między cyframi\n",
    "df1[\"Obrot\"] = pd.to_numeric(df1[\"Obrot\"], errors='coerce') #zamiana kolumny Obrot na float\n",
    "spolki = df1.sort_values(by=['Obrot'],ascending=False).head(30) #30 spolek o najwiekszych obrotach w dniu: xx.xx.xxxx\n",
    "\n",
    "spolka = []\n",
    "for i in spolki[\"Walor\"]:\n",
    "    spolka.append(i)"
   ]
  },
  {
   "cell_type": "markdown",
   "metadata": {},
   "source": [
    "# Pobranie postów spółek z największymi obrotami"
   ]
  },
  {
   "cell_type": "code",
   "execution_count": null,
   "metadata": {},
   "outputs": [],
   "source": [
    "url2 = 'https://www.bankier.pl/forum/forum_gielda,6,1.html'\n",
    "page2 = requests.get(url2)\n",
    "soup2 = BeautifulSoup(page2.content,'lxml')\n",
    "table2 = soup2.find_all('fieldset')[1] #pobranie z pola wyboru nazwy spolki oraz dopisku do url\n",
    "\n",
    "#porownanie spolek z listy i pobieranie postow z forum\n",
    "for i in spolka:\n",
    "    for option in table2.find_all('option'):\n",
    "        if option.text == i:\n",
    "            for x in range(1, 35):\n",
    "                url = 'https://www.bankier.pl/forum/forum_o_{},{}.html'.format(option['value'], x)\n",
    "                page = requests.get(url)\n",
    "                soup = BeautifulSoup(page.content,'lxml')\n",
    "                try:\n",
    "                    table = soup.find_all('table')[0]\n",
    "                    df = pd.read_html(str(table))[0]\n",
    "                    df['Spolka'] = i\n",
    "\n",
    "                    with open('Pozyskane_dane/Posty_wybranych_spolek.csv', 'a') as f:\n",
    "                        df.to_csv(f, header=False)\n",
    "\n",
    "                except:\n",
    "                    pass"
   ]
  }
 ],
 "metadata": {
  "kernelspec": {
   "display_name": "Python 3",
   "language": "python",
   "name": "python3"
  },
  "language_info": {
   "codemirror_mode": {
    "name": "ipython",
    "version": 3
   },
   "file_extension": ".py",
   "mimetype": "text/x-python",
   "name": "python",
   "nbconvert_exporter": "python",
   "pygments_lexer": "ipython3",
   "version": "3.8.5"
  }
 },
 "nbformat": 4,
 "nbformat_minor": 4
}
